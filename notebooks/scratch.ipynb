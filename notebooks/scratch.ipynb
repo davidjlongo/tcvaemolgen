{
 "cells": [
  {
   "cell_type": "code",
   "execution_count": 11,
   "metadata": {},
   "outputs": [],
   "source": [
    "import logging\n",
    "from applicationinsights import channel\n",
    "from applicationinsights.logging import LoggingHandler\n",
    "\n",
    "from pytorch_lightning import Trainer\n",
    "from argparse import ArgumentParser"
   ]
  },
  {
   "cell_type": "code",
   "execution_count": 13,
   "metadata": {},
   "outputs": [],
   "source": [
    "telemetry_channel = channel.TelemetryChannel()\n",
    "telemetry_channel.context.application.ver = '0.0.0.0'\n",
    "#telemetry_channel.context.properties['my_property'] = 'my_value'\n",
    "\n",
    "# set up logging\n",
    "handler = LoggingHandler('1bd7b388-4afd-4b58-8b2f-060ac172d00d', telemetry_channel=telemetry_channel)\n",
    "handler.setLevel(logging.DEBUG)\n",
    "handler.setFormatter(logging.Formatter('%(levelname)s: %(message)s'))\n",
    "my_logger = logging.getLogger('simple_logger')\n",
    "my_logger.setLevel(logging.DEBUG)\n",
    "my_logger.addHandler(handler)\n",
    "\n",
    "# log something (this will be sent to the Application Insights service as a trace)\n",
    "my_logger.debug(f'{__name__} This is a message')\n",
    "\n",
    "# logging shutdown will cause a flush of all un-sent telemetry items\n",
    "# alternatively flush manually via handler.flush()\n",
    "logging.shutdown()"
   ]
  },
  {
   "cell_type": "code",
   "execution_count": null,
   "metadata": {},
   "outputs": [],
   "source": []
  },
  {
   "cell_type": "code",
   "execution_count": null,
   "metadata": {},
   "outputs": [],
   "source": []
  }
 ],
 "metadata": {
  "kernelspec": {
   "display_name": "Python [conda env:env] *",
   "language": "python",
   "name": "conda-env-env-py"
  },
  "language_info": {
   "codemirror_mode": {
    "name": "ipython",
    "version": 3
   },
   "file_extension": ".py",
   "mimetype": "text/x-python",
   "name": "python",
   "nbconvert_exporter": "python",
   "pygments_lexer": "ipython3",
   "version": "3.7.5"
  }
 },
 "nbformat": 4,
 "nbformat_minor": 4
}
